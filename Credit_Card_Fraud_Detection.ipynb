{
 "cells": [
  {
   "cell_type": "markdown",
   "id": "b0a7001c",
   "metadata": {},
   "source": [
    "##################### End-to-end project by Patrick Mthisi (patrickmthisi@hotmail.com ###################################\n",
    "\n",
    "# CREDIT CARD FRAUD DETECTION:\n",
    " \n",
    " Data for the project was sourced from: https://www.kaggle.com/datasets/mlg-ulb/creditcardfraud.\n",
    " \n",
    "Project context: \"It is important that credit card companies are able to recognise fraudulent credit card transactions so that customers are not charged for items they did not purchase.\" kaggle.\n",
    " \n",
    "Content: \"The dataset contains transactions made by credit cards in September 2013 by European cardholders.\n",
    "This dataset presents transactions that occurred in two days, where we have 492 frauds out of 284,807 transactions. The dataset is highly unbalanced, the positive class (frauds) account for 0.172% of all transactions.\n",
    "\n",
    "It contains only numerical input variables which are the result of a PCA transformation. Unfortunately, due to confidentiality issues, we cannot provide the original features and more background information about the data. Features V1, V2, … V28 are the principal components obtained with PCA, the only features which have not been transformed with PCA are 'Time' and 'Amount'. Feature 'Time' contains the seconds elapsed between each transaction and the first transaction in the dataset. The feature 'Amount' is the transaction Amount, this feature can be used for example-dependant cost-sensitive learning. Feature 'Class' is the response variable and it takes value 1 in case of fraud and 0 otherwise.\n",
    "\n",
    "Given the class imbalance ratio, we recommend measuring the accuracy using the Area Under the Precision-Recall Curve (AUPRC). Confusion matrix accuracy is not meaningful for unbalanced classification.\" kaggle.\n",
    "\n",
    "Acknowledgements\n",
    "The dataset has been collected and analysed during a research collaboration of Worldline and the Machine Learning Group (http://mlg.ulb.ac.be) of ULB (Université Libre de Bruxelles) on big data mining and fraud detection.\n",
    "More details on current and past projects on related topics are available on https://www.researchgate.net/project/Fraud-detection-5 and the page of the DefeatFraud project\n",
    "\n",
    "\n",
    "# 0. OBJECTIVES: \n",
    "\n",
    "In this project, we investigated a suite of weighted machine learning methods that are commonly used to address skewed class distributions. Also investigated are data sampling approaches to address class imbalance. The following aspects are addressed in this project:\n",
    "- Exploring the credit card dataset using a automated data profiling module.\n",
    "- Data cleaning using a custom VIF() module to address multicollinearity.\n",
    "- Framing the fraud detection problem, developing a test harness and evaluating the baseline model. \n",
    "- Exploring a set of weighted machine learning algorithms and ensembles.\n",
    "- Exploring a suite of data sampling methods to address class imbalance.\n",
    "- Determining the optimal threshold based on Fbeta-score:\n",
    "   - applies more weight to recall to limit false negatives, i.e., actual fraud cases predicted as non-fraud., and\n",
    "   - beta in the fbeta-measures can be increased to values beta > 2.\n",
    "- Finalising and potential improvements."
   ]
  },
  {
   "cell_type": "code",
   "execution_count": 1,
   "id": "751a9121",
   "metadata": {},
   "outputs": [],
   "source": [
    "# import relevant libraries\n",
    "import numpy as np\n",
    "import pandas as pd\n",
    "import matplotlib.pyplot as plt\n",
    "import seaborn as sns\n",
    "from sklearn.preprocessing import StandardScaler, LabelEncoder, PowerTransformer\n",
    "from sklearn.base import BaseEstimator, TransformerMixin\n",
    "from sklearn.model_selection import cross_val_score, RepeatedStratifiedKFold, GridSearchCV\n",
    "from sklearn.metrics import fbeta_score, make_scorer\n",
    "from sklearn.dummy import DummyClassifier\n",
    "from sklearn.base import BaseEstimator, TransformerMixin\n",
    "from sklearn.pipeline import Pipeline, make_pipeline\n",
    "from collections import Counter\n",
    "from scipy.spatial.distance import mahalanobis\n",
    "from ydata_profiling import ProfileReport\n",
    "from statsmodels.stats.outliers_influence import variance_inflation_factor\n",
    "%matplotlib inline"
   ]
  },
  {
   "cell_type": "code",
   "execution_count": 2,
   "id": "ad6e32e0",
   "metadata": {},
   "outputs": [
    {
     "name": "stdout",
     "output_type": "stream",
     "text": [
      "(284807, 31)\n",
      "Class=0, Count=284315, Percentage=99.827%\n",
      "Class=1, Count=492, Percentage=0.173%\n"
     ]
    }
   ],
   "source": [
    "filename = 'creditcard.csv'\n",
    "credit_dta = pd.read_csv(filename)\n",
    "print(credit_dta.shape)\n",
    "target = credit_dta['Class'].values\n",
    "counter = Counter(target)\n",
    "for k,v in counter.items():\n",
    "    per = v / len(target) * 100\n",
    "    print('Class=%d, Count=%d, Percentage=%.3f%%' % (k, v, per))"
   ]
  },
  {
   "cell_type": "code",
   "execution_count": 3,
   "id": "c3e4f3aa",
   "metadata": {},
   "outputs": [
    {
     "data": {
      "application/vnd.jupyter.widget-view+json": {
       "model_id": "18ee527d559b4cd38c3e947eeb325048",
       "version_major": 2,
       "version_minor": 0
      },
      "text/plain": [
       "Summarize dataset:   0%|          | 0/5 [00:00<?, ?it/s]"
      ]
     },
     "metadata": {},
     "output_type": "display_data"
    },
    {
     "data": {
      "application/vnd.jupyter.widget-view+json": {
       "model_id": "8f4ecf73af234a9a888e92ed6ef0c754",
       "version_major": 2,
       "version_minor": 0
      },
      "text/plain": [
       "Generate report structure:   0%|          | 0/1 [00:00<?, ?it/s]"
      ]
     },
     "metadata": {},
     "output_type": "display_data"
    },
    {
     "data": {
      "application/vnd.jupyter.widget-view+json": {
       "model_id": "286effb157c74a349267640bcd46dac4",
       "version_major": 2,
       "version_minor": 0
      },
      "text/plain": [
       "Render HTML:   0%|          | 0/1 [00:00<?, ?it/s]"
      ]
     },
     "metadata": {},
     "output_type": "display_data"
    },
    {
     "data": {
      "application/vnd.jupyter.widget-view+json": {
       "model_id": "9e867ba0210a475a824d28e7b841e334",
       "version_major": 2,
       "version_minor": 0
      },
      "text/plain": [
       "Export report to file:   0%|          | 0/1 [00:00<?, ?it/s]"
      ]
     },
     "metadata": {},
     "output_type": "display_data"
    }
   ],
   "source": [
    "credit_data_profile = ProfileReport(credit_dta)\n",
    "credit_data_profile.to_file(\"credit_data_profile.html\")"
   ]
  },
  {
   "cell_type": "code",
   "execution_count": 3,
   "id": "dcaec61d",
   "metadata": {},
   "outputs": [],
   "source": [
    "def column_mapping(df):\n",
    "    c_map = [f\"{c[0]}:{c[1]}\" for c in enumerate(df.columns)]\n",
    "    return c_map\n",
    "\n",
    "# define a module that calculate VIF and remove features with VIF greater than threshold (typically set to 5)\n",
    "class VIF(BaseEstimator, TransformerMixin):\n",
    "    def __init__(self, threshold = 5):\n",
    "        self.threshold = threshold\n",
    "    \n",
    "    def fit(self, X, y=None):\n",
    "        self.X = X\n",
    "        return self\n",
    "    \n",
    "    def transform(self, X):\n",
    "        '''\n",
    "        Parameters:\n",
    "        X: pandas dataframe \n",
    "        \n",
    "        returns:\n",
    "        X-cleaned: pandas DataFrame\n",
    "            DataFrame with variables that has VIF less than the threshold.\n",
    "\n",
    "        '''\n",
    "        if not isinstance(X, pd.DataFrame):\n",
    "            X = pd.DataFrame(X)\n",
    "        self.X = X.copy()\n",
    "        df = pd.DataFrame()\n",
    "        # calculate VIF for each variable in the dataframe\n",
    "        df['VIF factor'] = [variance_inflation_factor(self.X.values,  i) for i in range(self.X.shape[1])]\n",
    "        df['features'] = self.X.columns\n",
    "        print('VIF Calculation')\n",
    "        print(30*'--')\n",
    "        print(df)\n",
    "        high_vif_cols = df['features'][df['VIF factor'] > self.threshold].to_list()\n",
    "        # drop columns where vif greater threshold\n",
    "        X_cleaned = self.X[self.X.columns.difference(high_vif_cols)]\n",
    "        return X_cleaned"
   ]
  },
  {
   "cell_type": "markdown",
   "id": "a6d08c49",
   "metadata": {},
   "source": [
    "# Data cleaning"
   ]
  },
  {
   "cell_type": "code",
   "execution_count": 4,
   "id": "3b83faff",
   "metadata": {},
   "outputs": [
    {
     "data": {
      "text/plain": [
       "['0:Time',\n",
       " '1:V1',\n",
       " '2:V2',\n",
       " '3:V3',\n",
       " '4:V4',\n",
       " '5:V5',\n",
       " '6:V6',\n",
       " '7:V7',\n",
       " '8:V8',\n",
       " '9:V9',\n",
       " '10:V10',\n",
       " '11:V11',\n",
       " '12:V12',\n",
       " '13:V13',\n",
       " '14:V14',\n",
       " '15:V15',\n",
       " '16:V16',\n",
       " '17:V17',\n",
       " '18:V18',\n",
       " '19:V19',\n",
       " '20:V20',\n",
       " '21:V21',\n",
       " '22:V22',\n",
       " '23:V23',\n",
       " '24:V24',\n",
       " '25:V25',\n",
       " '26:V26',\n",
       " '27:V27',\n",
       " '28:V28',\n",
       " '29:Amount',\n",
       " '30:Class']"
      ]
     },
     "execution_count": 4,
     "metadata": {},
     "output_type": "execute_result"
    }
   ],
   "source": [
    "column_mapping(credit_dta)"
   ]
  },
  {
   "cell_type": "code",
   "execution_count": 5,
   "id": "9f1f6316",
   "metadata": {},
   "outputs": [
    {
     "name": "stdout",
     "output_type": "stream",
     "text": [
      "(283726, 30)\n"
     ]
    }
   ],
   "source": [
    "# drop duplicates\n",
    "credit_dta.drop_duplicates(inplace=True) \n",
    "# Scale 'Amount' column \n",
    "amount_scaled = StandardScaler().fit_transform(credit_dta['Amount'].values.reshape(-1, 1))\n",
    "credit_dta['Amount'] = amount_scaled\n",
    "\n",
    "# drop time variable\n",
    "credit_dta.drop(columns='Time', axis=1, inplace=True)\n",
    "\n",
    "# Check the shape of the resulting DataFrame\n",
    "print(credit_dta.shape)"
   ]
  },
  {
   "cell_type": "code",
   "execution_count": 6,
   "id": "29bdc444",
   "metadata": {},
   "outputs": [
    {
     "name": "stdout",
     "output_type": "stream",
     "text": [
      "VIF Calculation\n",
      "------------------------------------------------------------\n",
      "    VIF factor features\n",
      "0     1.633300       V1\n",
      "1     4.466644       V2\n",
      "2     1.542252       V3\n",
      "3     1.121091       V4\n",
      "4     2.816734       V5\n",
      "5     1.572236       V6\n",
      "6     2.907436       V7\n",
      "7     1.131087       V8\n",
      "8     1.024156       V9\n",
      "9     1.123990      V10\n",
      "10    1.000245      V11\n",
      "11    1.001702      V12\n",
      "12    1.000372      V13\n",
      "13    1.014246      V14\n",
      "14    1.000101      V15\n",
      "15    1.000656      V16\n",
      "16    1.001508      V17\n",
      "17    1.015783      V18\n",
      "18    1.038426      V19\n",
      "19    2.403369      V20\n",
      "20    1.135968      V21\n",
      "21    1.052271      V22\n",
      "22    1.159593      V23\n",
      "23    1.000351      V24\n",
      "24    1.028632      V25\n",
      "25    1.000168      V26\n",
      "26    1.011014      V27\n",
      "27    1.001595      V28\n",
      "28   12.295352   Amount\n"
     ]
    }
   ],
   "source": [
    "# select feature columns\n",
    "features = credit_dta.iloc[:,:-1]\n",
    "credit_dta_clean = VIF().fit_transform(features)\n",
    "credit_dta_clean['Class'] = credit_dta['Class'].values"
   ]
  },
  {
   "cell_type": "code",
   "execution_count": 8,
   "id": "b6a81a2f",
   "metadata": {},
   "outputs": [
    {
     "data": {
      "application/vnd.jupyter.widget-view+json": {
       "model_id": "c535da13b7cd4bc2bc04c0788cc3b559",
       "version_major": 2,
       "version_minor": 0
      },
      "text/plain": [
       "Summarize dataset:   0%|          | 0/5 [00:00<?, ?it/s]"
      ]
     },
     "metadata": {},
     "output_type": "display_data"
    },
    {
     "data": {
      "application/vnd.jupyter.widget-view+json": {
       "model_id": "7e42f2b66d9f4522bb9d43ee438f0091",
       "version_major": 2,
       "version_minor": 0
      },
      "text/plain": [
       "Generate report structure:   0%|          | 0/1 [00:00<?, ?it/s]"
      ]
     },
     "metadata": {},
     "output_type": "display_data"
    },
    {
     "data": {
      "application/vnd.jupyter.widget-view+json": {
       "model_id": "97d8c85a19f14250a5d76247b553c4e8",
       "version_major": 2,
       "version_minor": 0
      },
      "text/plain": [
       "Render HTML:   0%|          | 0/1 [00:00<?, ?it/s]"
      ]
     },
     "metadata": {},
     "output_type": "display_data"
    },
    {
     "data": {
      "application/vnd.jupyter.widget-view+json": {
       "model_id": "8c5e4ec9ff344fcb9c714b9474146812",
       "version_major": 2,
       "version_minor": 0
      },
      "text/plain": [
       "Export report to file:   0%|          | 0/1 [00:00<?, ?it/s]"
      ]
     },
     "metadata": {},
     "output_type": "display_data"
    }
   ],
   "source": [
    "credit_data_clean_profile = ProfileReport(credit_dta_clean)\n",
    "credit_data_clean_profile.to_file(\"credit_data_clean_profile.html\")"
   ]
  },
  {
   "cell_type": "markdown",
   "id": "30642472",
   "metadata": {},
   "source": [
    "# Evaluate base model"
   ]
  },
  {
   "cell_type": "code",
   "execution_count": 7,
   "id": "0825e2ab",
   "metadata": {},
   "outputs": [
    {
     "name": "stdout",
     "output_type": "stream",
     "text": [
      "(283726, 28) (283726,) Counter({0: 283253, 1: 473})\n",
      "Baseline PR AUC: 0.008 , ROC AUC: 0.503 \n"
     ]
    }
   ],
   "source": [
    "from sklearn.model_selection import train_test_split\n",
    "from sklearn.metrics import auc, precision_recall_curve, roc_auc_score, roc_curve\n",
    "#  load the dataset\n",
    "def get_data(data, target):\n",
    "    df = data.copy()\n",
    "    X = df[df.columns.difference([target])].values\n",
    "    y = df[target].values \n",
    "    # label encode target to class 0 and 1\n",
    "    y = LabelEncoder().fit_transform(y)\n",
    "    return X, y\n",
    "\n",
    "\n",
    "def evaluate_model(X, y, model):\n",
    "    # split data into trainn/test sets\n",
    "    TrainX, testX, trainy, testy = train_test_split(X, y, test_size=0.3, random_state=1, stratify=y)\n",
    "    # train model\n",
    "    model.fit(TrainX, trainy)\n",
    "    # predict\n",
    "    yhat = model.predict_proba(testX)\n",
    "    model_probs = yhat[:, 1]\n",
    "     # calculate the precision-recall auc\n",
    "    precision, recall, _ = precision_recall_curve(testy, model_probs)\n",
    "    pr_auc = auc(recall, precision)\n",
    "    # compute roc auc\n",
    "    roc_auc = roc_auc_score(testy, model_probs, labels=[0, 1])\n",
    "    fpr, tpr, _ = roc_curve(testy, model_probs)\n",
    "    \n",
    "    return pr_auc, roc_auc, precision, recall, fpr, tpr\n",
    "\n",
    "# load the dataset\n",
    "X, y = get_data(credit_dta_clean, 'Class')\n",
    "# summarise the loaded data\n",
    "print(X.shape, y.shape, Counter(y))\n",
    "# define baseline model\n",
    "model = DummyClassifier(strategy='stratified')\n",
    "# evaluate model\n",
    "pr_score, auc_score, precision, recall, fpr, tpr = evaluate_model(X, y, model)\n",
    "# summarise performance\n",
    "print('%s PR AUC: %.3f , ROC AUC: %.3f ' %  ('Baseline', pr_score, auc_score))"
   ]
  },
  {
   "cell_type": "markdown",
   "id": "2e74cbbb",
   "metadata": {},
   "source": [
    "# Evaluate a suite of weighted machine learning algorithms and ensembles"
   ]
  },
  {
   "cell_type": "code",
   "execution_count": 34,
   "id": "f82d95a4",
   "metadata": {
    "scrolled": false
   },
   "outputs": [
    {
     "name": "stdout",
     "output_type": "stream",
     "text": [
      "lr PR AUC: 0.711 , ROC AUC: 0.973 \n",
      "svm PR AUC: 0.496 , ROC AUC: 0.969 \n",
      "cart PR AUC: 0.801 , ROC AUC: 0.891 \n",
      "rf PR AUC: 0.806 , ROC AUC: 0.947 \n",
      "xgb PR AUC: 0.812 , ROC AUC: 0.964 \n",
      "voting PR AUC: 0.794 , ROC AUC: 0.974 \n",
      "stacking PR AUC: 0.793 , ROC AUC: 0.974 \n"
     ]
    }
   ],
   "source": [
    "# import machine learning algorithms\n",
    "from sklearn.linear_model import LogisticRegression\n",
    "from sklearn.tree import DecisionTreeClassifier\n",
    "from sklearn.svm import SVC\n",
    "from sklearn.ensemble import RandomForestClassifier\n",
    "from sklearn.feature_selection import SelectPercentile, f_classif\n",
    "from sklearn.ensemble import VotingClassifier, StackingClassifier\n",
    "from sklearn.calibration import CalibratedClassifierCV\n",
    "from xgboost import XGBClassifier\n",
    "\n",
    "\n",
    "# define voting ensemble model\n",
    "def get_voting():\n",
    "    # define base models\n",
    "    models = list()\n",
    "    models.append(('lr', LogisticRegression(solver='liblinear', class_weight='balanced')))\n",
    "    models.append(('cart', CalibratedClassifierCV(DecisionTreeClassifier(class_weight='balanced'), method='sigmoid', cv=3)))\n",
    "    models.append(('svm', CalibratedClassifierCV(SVC(gamma='scale', class_weight='balanced', probability=True), method='sigmoid' , cv=3)))\n",
    "    models.append(('rf', CalibratedClassifierCV(RandomForestClassifier(class_weight='balanced'), method='sigmoid', cv=3)))\n",
    "    models.append(('xgb', XGBClassifier(scale_pos_weight=600)))\n",
    "    # define voting ensemble\n",
    "    voting_ensemble = VotingClassifier(estimators=models, voting='soft')\n",
    "    return voting_ensemble\n",
    "\n",
    "# define stacking ensemble\n",
    "def get_stacking():\n",
    "    # define level0 models\n",
    "    level0 = list()\n",
    "    level0.append(('lr', LogisticRegression(solver='liblinear', class_weight='balanced')))\n",
    "    level0.append(('cart', DecisionTreeClassifier(class_weight='balanced')))\n",
    "    level0.append(('svm', SVC(gamma='scale', class_weight='balanced')))\n",
    "    level0.append(('rf', RandomForestClassifier(class_weight='balanced')))\n",
    "    level0.append(('xgb', XGBClassifier(scale_pos_weight=600)))\n",
    "    # define level1 model\n",
    "    leve1 = LogisticRegression()\n",
    "    # define stacking ensemble\n",
    "    stacking_ensemble = StackingClassifier(estimators=level0, final_estimator=leve1, cv=5)\n",
    "    return stacking_ensemble\n",
    "\n",
    "# define models to test\n",
    "def get_models():\n",
    "    models = dict()\n",
    "    models['lr'] = make_pipeline(PowerTransformer(), LogisticRegression(solver='liblinear', class_weight='balanced'))\n",
    "    models['svm'] = CalibratedClassifierCV(SVC(gamma='scale', class_weight='balanced', probability=True))\n",
    "    models['cart'] = CalibratedClassifierCV(DecisionTreeClassifier(class_weight='balanced'), method='sigmoid', cv=3)\n",
    "    models['rf'] = CalibratedClassifierCV(RandomForestClassifier(class_weight='balanced'), method='sigmoid', cv=3)\n",
    "    models['xgb'] = XGBClassifier(scale_pos_weight=600)\n",
    "    models['voting'] = get_voting()\n",
    "    models['stacking'] = get_stacking()\n",
    "    return models\n",
    "\n",
    "# get models\n",
    "models = get_models()\n",
    "for name, model in models.items():\n",
    "    pr_score, auc_score, precision, recall, fpr, tpr = evaluate_model(X, y, model)\n",
    "    print('%s PR AUC: %.3f , ROC AUC: %.3f ' %  (name, pr_score, auc_score))"
   ]
  },
  {
   "cell_type": "markdown",
   "id": "0fe3fd66",
   "metadata": {},
   "source": [
    "# Handling class imbalance using data sampling"
   ]
  },
  {
   "cell_type": "code",
   "execution_count": 35,
   "id": "a39999b1",
   "metadata": {},
   "outputs": [
    {
     "name": "stdout",
     "output_type": "stream",
     "text": [
      "smote PR AUC: 0.810 , ROC AUC: 0.974\n",
      "borderline PR AUC: 0.809 , ROC AUC: 0.974\n",
      "svmsmote PR AUC: 0.808 , ROC AUC: 0.974\n",
      "adasyn PR AUC: 0.808 , ROC AUC: 0.974\n",
      "smoteenn PR AUC: 0.809 , ROC AUC: 0.974\n",
      "smotetomek PR AUC: 0.809 , ROC AUC: 0.974\n"
     ]
    }
   ],
   "source": [
    "# implementing data sampling strategies\n",
    "from imblearn.pipeline import Pipeline\n",
    "from imblearn.over_sampling import SMOTE, BorderlineSMOTE, SVMSMOTE, ADASYN\n",
    "from imblearn.under_sampling import TomekLinks, EditedNearestNeighbours\n",
    "from imblearn.combine import SMOTEENN, SMOTETomek\n",
    "\n",
    "# define data sampling models\n",
    "def get_models():\n",
    "    models = dict()\n",
    "    models['smote'] = SMOTE()\n",
    "    models['borderline'] = BorderlineSMOTE()\n",
    "    models['svmsmote'] = SVMSMOTE()\n",
    "    models['adasyn'] = ADASYN()\n",
    "    models['smoteenn'] = SMOTEENN(enn=EditedNearestNeighbours(sampling_strategy='majority'))\n",
    "    models['smotetomek'] = SMOTETomek(tomek=TomekLinks(sampling_strategy='majority'))\n",
    "    return models\n",
    "\n",
    "# define voting ensemble model\n",
    "def get_voting():\n",
    "    # define base models\n",
    "    models = list()\n",
    "    models.append(('lr', LogisticRegression(solver='liblinear')))\n",
    "    models.append(('cart', CalibratedClassifierCV(DecisionTreeClassifier(), method='sigmoid', cv=3)))\n",
    "    models.append(('svm', CalibratedClassifierCV(SVC(gamma='scale', probability=True), method='sigmoid', cv=3)))\n",
    "    models.append(('rf', CalibratedClassifierCV(RandomForestClassifier(), method='sigmoid', cv=3)))\n",
    "    models.append(('xgb', XGBClassifier()))\n",
    "    # define voting ensemble\n",
    "    voting_ensemble = VotingClassifier(estimators=models, voting='soft')\n",
    "    return voting_ensemble\n",
    "\n",
    "# get models\n",
    "models = get_models()\n",
    "# define classification model\n",
    "classifier = get_voting()\n",
    "# evaluate models\n",
    "for name, model in models.items():\n",
    "    steps = list()\n",
    "    steps.append(('sampling_strategy', model))\n",
    "    steps.append(('clf', classifier))\n",
    "    pipeline = Pipeline(steps=steps)\n",
    "    pr_score, auc_score, precision, recall, fpr, tpr = evaluate_model(X, y, classifier)\n",
    "    print('%s PR AUC: %.3f , ROC AUC: %.3f' %  (name, pr_score, auc_score))"
   ]
  },
  {
   "cell_type": "markdown",
   "id": "b7f90fa5",
   "metadata": {},
   "source": [
    "# Determining the optimal threshold using the best model"
   ]
  },
  {
   "cell_type": "code",
   "execution_count": null,
   "id": "ba232d74",
   "metadata": {},
   "outputs": [],
   "source": [
    "from imblearn.pipeline import Pipeline\n",
    "from imblearn.over_sampling import SMOTE\n",
    "\n",
    "def get_voting():\n",
    "    # define base models\n",
    "    models = list()\n",
    "    models.append(('lr', LogisticRegression(solver='liblinear')))\n",
    "    models.append(('cart', CalibratedClassifierCV(DecisionTreeClassifier(), method='sigmoid', cv=3)))\n",
    "    models.append(('svm', CalibratedClassifierCV(SVC(gamma='scale', probability=True), method='sigmoid', cv=3)))\n",
    "    models.append(('rf', CalibratedClassifierCV(RandomForestClassifier(), method='sigmoid', cv=3)))\n",
    "    models.append(('xgb', XGBClassifier()))\n",
    "    # define voting ensemble\n",
    "    voting_ensemble = VotingClassifier(estimators=models, voting='soft')\n",
    "    return voting_ensemble\n",
    "\n",
    "\n",
    "def evaluate_model(X, y, model):\n",
    "    # split data into trainn/test sets\n",
    "    TrainX, testX, trainy, testy = train_test_split(X, y, test_size=0.3, random_state=1, stratify=y)\n",
    "    # train model\n",
    "    model.fit(TrainX, trainy)\n",
    "    # predict\n",
    "    yhat = model.predict_proba(testX)\n",
    "    model_probs = yhat[:, 1]\n",
    "     # calculate the precision-recall auc\n",
    "    precision, recall, threshold = precision_recall_curve(testy, model_probs)\n",
    "    pr_auc = auc(recall, precision)\n",
    "    roc_auc = roc_auc_score(testy, model_probs, labels=[0, 1])\n",
    "    return pr_auc, roc_auc, precision, recall, threshold\n",
    "\n",
    "# define classification model\n",
    "model = get_voting()\n",
    "# define pipeline\n",
    "steps = []\n",
    "steps.append(('sampling_strategy', SMOTE()))\n",
    "steps.append(('model', model))\n",
    "pipeline = Pipeline(steps=steps)\n",
    "# evaluate model\n",
    "pr_auc, roc_auc, precision, recall, threshold = evaluate_model(X, y, pipeline)"
   ]
  },
  {
   "cell_type": "code",
   "execution_count": 23,
   "id": "abd83a06",
   "metadata": {},
   "outputs": [
    {
     "name": "stdout",
     "output_type": "stream",
     "text": [
      "Threshold: 0.55386, Fbeta-score: 0.798\n"
     ]
    },
    {
     "data": {
      "image/png": "[encoded data removed]",
      "text/plain": [
       "<Figure size 1500x500 with 2 Axes>"
      ]
     },
     "metadata": {},
     "output_type": "display_data"
    }
   ],
   "source": [
    "# calculate Fbeta-score and locate the index for maximum Fbeta-score\n",
    "beta = 2\n",
    "Fbeta_score = (1+beta**2) * (precision * recall) / (beta**2 * precision + recall)\n",
    "idx_max = np.argmax(Fbeta_score)\n",
    "# print the optimal threshold and the corresponding fbeta-score \n",
    "print('Threshold: %.5f, Fbeta-score: %.3f' % (threshold[idx_max], Fbeta_score[idx_max]))\n",
    "# plot pr curve and locate optimal threshold\n",
    "baseline = Counter(y)[1] / Counter(y)[0]\n",
    "fig, ax = plt.subplots(figsize=(15,5))\n",
    "ax.remove()\n",
    "plt.subplot(1, 2, 1)\n",
    "plt.plot([0, 1], [baseline, baseline], linestyle='--', label='No Skill')\n",
    "plt.plot(recall, precision, marker='.', label=f\"Final Model PR AUC: {pr_auc:.2f}\")\n",
    "plt.scatter(recall[idx_max], precision[idx_max], marker='o', color='black', label='Optimal')\n",
    "plt.xlabel('recall')\n",
    "plt.ylabel('precision')\n",
    "plt.legend()\n",
    "plt.subplot(1, 2, 2)\n",
    "plt.plot(threshold, Fbeta_score[:-1], label = 'Fbeta-score')\n",
    "plt.plot(threshold, precision[:-1], label = 'precision', linestyle='--')\n",
    "plt.plot(threshold, recall[:-1], label = 'recall', linestyle='--')\n",
    "plt.xlabel('Thresholds')\n",
    "plt.ylabel('metric scores')\n",
    "plt.legend()\n",
    "plt.show()"
   ]
  },
  {
   "cell_type": "markdown",
   "id": "58683e38",
   "metadata": {},
   "source": [
    "# Where do we go from here?\n",
    "- In this highly skewed dataset, the voting ensemble produced the highest performance score, achieving a ROC AUC of 0.974 and a PR AUC of 0.794. Utilizing this model as a baseline, we evaluated various sampling methods, including SMOTE and SMOTETomek, to address the challenges posed by class imbalance. While the ROC AUC remained consistent across the different sampling techniques, SMOTE delivered the most significant improvement in PR AUC, rising to 0.810, an increase from the initial score of 0.794.\n",
    "\n",
    "- The machine learning algorithms that we employed in this project used default parameters. Performance can be enhanced by employing grid search to determine the best parameters. \n",
    "\n",
    "- One can explore one-class algorithms in this work as well. The ones that l can think of are isolation forests or one-class support vector machines. Due to the severe class imbalance, l believe these algorithms could yield very interesting and useful results. "
   ]
  },
  {
   "cell_type": "code",
   "execution_count": null,
   "id": "ae623349",
   "metadata": {},
   "outputs": [],
   "source": []
  }
 ],
 "metadata": {
  "kernelspec": {
   "display_name": "Python 3 (ipykernel)",
   "language": "python",
   "name": "python3"
  },
  "language_info": {
   "codemirror_mode": {
    "name": "ipython",
    "version": 3
   },
   "file_extension": ".py",
   "mimetype": "text/x-python",
   "name": "python",
   "nbconvert_exporter": "python",
   "pygments_lexer": "ipython3",
   "version": "3.10.6"
  }
 },
 "nbformat": 4,
 "nbformat_minor": 5
}
